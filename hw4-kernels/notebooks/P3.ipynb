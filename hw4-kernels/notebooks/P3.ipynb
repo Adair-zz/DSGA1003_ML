{
 "cells": [
  {
   "cell_type": "markdown",
   "metadata": {},
   "source": [
    "# 3 Positive Definite Matrix"
   ]
  },
  {
   "cell_type": "markdown",
   "metadata": {},
   "source": [
    "## 3-1\n",
    "Let $M$ be a positive definite matrix and $v$ be one of the eigenvector of $M$ with eigenvalue $\\lambda$.\n",
    "\n",
    "By definition of psd we must have $v^TMv > 0$. Let $v^TMv=c$. By definition of eigenvector, we have:\n",
    "\\begin{split}\n",
    "v^T(Mv)&=c\\\\\n",
    "v^T \\lambda v&=c\\\\\n",
    "\\lambda v^Tv&=c\\\\\n",
    "\\lambda &=\\frac{c}{\\lvert \\lvert v \\rvert \\rvert}\n",
    "\\end{split}\n",
    "\n",
    "Since $c>0$ and $\\lvert \\vert v \\rvert \\rvert = 1$ ($v$ is eigenvector), we must have $\\lambda > 0$."
   ]
  },
  {
   "cell_type": "markdown",
   "metadata": {},
   "source": [
    "\\newpage\n",
    "## 3-2"
   ]
  },
  {
   "cell_type": "markdown",
   "metadata": {},
   "source": [
    "Proof:\n",
    "\n",
    "Since Q is orthogonal matrix, we have $Q^TQ=1$, therefore:\n",
    "\n",
    "\\begin{split}\n",
    "M(Q \\Sigma^{-1} Q^T)=(Q \\Sigma Q^T)(Q \\Sigma^{-1} Q^T) = Q \\Sigma \\Sigma^{-1} Q^T = QQ^T =I\n",
    "\\end{split}"
   ]
  },
  {
   "cell_type": "markdown",
   "metadata": {},
   "source": [
    "\\newpage\n",
    "## 3-3"
   ]
  },
  {
   "cell_type": "markdown",
   "metadata": {},
   "source": [
    "Proof: Let $x \\in \\mathbf{R}^n$ be any vector. Since $M$ is symmetric positive definite matrix we must have $x^TMx >0$\n",
    "\n",
    "\\begin{split}\n",
    "x^T(M+\\lambda I)x&=x^T(Mx+\\lambda Ix)\\\\\n",
    "&=x^TMx+\\lambda x^TIx\\\\\n",
    "&=x^TMx+\\lambda \\lvert\\lvert x \\rvert \\rvert \\geq x^TMx >0.\n",
    "\\end{split}\n",
    "\n",
    "Hence $x^T(M+\\lambda I)x$ is symmetric positive definite matrix.\n",
    "\n",
    "Let $v$ be an eigen vector of $M$ and $\\lambda_v$ be its corresponding eigenvalue. Observe that $(M+\\lambda I)v = (\\lambda_v+\\lambda)v$. Hence $v$ is also an eigenvector of $M+\\lambda I$ with eigenvalue $\\lambda_v+\\lambda$. Since M+\\lambda I is a positive definite matrix, by our result of 3-2, its inverse has form $Q\\Sigma^{-1}Q$ where $\\Sigma^{-1}=diag(\\sigma_1^{-1},\\sigma_2^{-1},...,\\sigma_n^{-1})$ and $\\sigma_i=\\lambda_v+\\lambda$. "
   ]
  },
  {
   "cell_type": "markdown",
   "metadata": {},
   "source": [
    "\\newpage\n",
    "## 3-4"
   ]
  },
  {
   "cell_type": "markdown",
   "metadata": {},
   "source": [
    "Proof:\n",
    "Let $x \\in \\mathbf{R}$ be any vector. We have:\n",
    "\n",
    "\\begin{split}\n",
    "x^T(M+N)x&=x^TMx+x^TNx>0\n",
    "\\end{split}"
   ]
  }
 ],
 "metadata": {
  "kernelspec": {
   "display_name": "Python [conda root]",
   "language": "python",
   "name": "conda-root-py"
  },
  "language_info": {
   "codemirror_mode": {
    "name": "ipython",
    "version": 2
   },
   "file_extension": ".py",
   "mimetype": "text/x-python",
   "name": "python",
   "nbconvert_exporter": "python",
   "pygments_lexer": "ipython2",
   "version": "2.7.12"
  }
 },
 "nbformat": 4,
 "nbformat_minor": 1
}
