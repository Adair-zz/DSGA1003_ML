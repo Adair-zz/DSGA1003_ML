{
 "cells": [
  {
   "cell_type": "markdown",
   "metadata": {},
   "source": [
    "# 2 Positive Semidefinite Matrix"
   ]
  },
  {
   "cell_type": "markdown",
   "metadata": {},
   "source": [
    "## 2-1"
   ]
  },
  {
   "cell_type": "markdown",
   "metadata": {},
   "source": [
    "Example: \n",
    "$$\n",
    "\\begin{bmatrix}\n",
    "0 & 1\\\\\n",
    "-1 & 0\n",
    "\\end{bmatrix}\n",
    "$$"
   ]
  },
  {
   "cell_type": "markdown",
   "metadata": {},
   "source": [
    "\\newpage\n",
    "## 2-2"
   ]
  },
  {
   "cell_type": "markdown",
   "metadata": {},
   "source": [
    "Proof: \n",
    "\n",
    "Let $M$ be a psd matrix and $v$ be one of the eigenvector of $M$ with eigenvalue $\\lambda$.\n",
    "\n",
    "By definition of psd we must have $v^TMv\\geq 0$. Let $v^TMv=c$. By definition of eigenvector, we have:\n",
    "$$\n",
    "\\begin{split}\n",
    "v^T(Mv)&=c\\\\\n",
    "v^T \\lambda v&=c\\\\\n",
    "\\lambda v^Tv&=c\\\\\n",
    "\\lambda &=\\frac{c}{\\lvert \\lvert v \\rvert \\rvert}\n",
    "\\end{split}\n",
    "$$\n",
    "\n",
    "Since $c\\geq 0$ and $\\lvert \\vert v \\rvert \\rvert = 0$ ($v$ is eigenvector), we must have $\\lambda \\geq 0$."
   ]
  },
  {
   "cell_type": "markdown",
   "metadata": {},
   "source": [
    "\\newpage\n",
    "## 2-3"
   ]
  },
  {
   "cell_type": "markdown",
   "metadata": {},
   "source": [
    "Proof:\n",
    "\n",
    "If $M = BB^T$ where $B \\in \\mathbf{R}^{n \\times d}$ .Let $x \\in \\mathbf{R}^n$, then we must have:\n",
    "$$\n",
    "\\begin{split}\n",
    "x^TMx&=x^T(BB^T)x\\\\\n",
    "&=(x^TB)(B^Tx)\\\\\n",
    "&=(B^Tx)^T(B^Tx)\\\\\n",
    "&=\\lvert \\lvert B^Tx \\rvert \\rvert \\geq 0.\n",
    "\\end{split}\n",
    "$$\n",
    "Then M is psd.\n",
    "\n",
    "If M is psd, then it is real and symmetric. By Spectual Theorem, $M = Q \\Sigma Q^T$, where $\\Sigma$ is a diagonal matrix of the corresponding eigenvalues of $M$. By part 2-2, we proved that all eigenvalues are positive. Thus we can always write $\\Sigma=RR^T$ where $R$ is a diagonal matrix whose values is the square root of eigenvalues. Let $B=QS$, $M=BB^T$"
   ]
  },
  {
   "cell_type": "code",
   "execution_count": null,
   "metadata": {
    "collapsed": true
   },
   "outputs": [],
   "source": []
  }
 ],
 "metadata": {
  "anaconda-cloud": {},
  "kernelspec": {
   "display_name": "Python [conda root]",
   "language": "python",
   "name": "conda-root-py"
  },
  "language_info": {
   "codemirror_mode": {
    "name": "ipython",
    "version": 2
   },
   "file_extension": ".py",
   "mimetype": "text/x-python",
   "name": "python",
   "nbconvert_exporter": "python",
   "pygments_lexer": "ipython2",
   "version": "2.7.12"
  }
 },
 "nbformat": 4,
 "nbformat_minor": 1
}
