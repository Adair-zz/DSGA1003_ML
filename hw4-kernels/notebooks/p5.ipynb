{
 "cells": [
  {
   "cell_type": "markdown",
   "metadata": {},
   "source": [
    "# 5 Kernel Ridge Regression"
   ]
  },
  {
   "cell_type": "markdown",
   "metadata": {},
   "source": [
    "## 5-1"
   ]
  },
  {
   "cell_type": "markdown",
   "metadata": {},
   "source": [
    "If $w$ is a minimizer of $J(w)$, we must have $\\frac{dJ(w)}{dw}=0$. Therefore:\n",
    "\n",
    "\\begin{split}\n",
    "\\frac{dJ(w)}{dw} = 2X^T(Xw-y)+2\\lambda Iw &= 0\\\\\n",
    "2X^TXw-2X^Ty+2\\lambda Iw &=0\\\\\n",
    "X^TXw+\\lambda Iw&=X^Ty\\\\\n",
    "(X^TX+\\lambda I)w&=X^Ty.\n",
    "\\end{split}\n",
    "\n",
    "By our conclusion from 2-3, $X^TX$ is a psd Matrix and from 3-3 $X^TX+\\lambda I$ is positive definite for any $\\lambda>0$ and is invertible. Then we have $w=(X^TX+\\lambda I)^{-1}X^Ty$."
   ]
  },
  {
   "cell_type": "code",
   "execution_count": null,
   "metadata": {
    "collapsed": true
   },
   "outputs": [],
   "source": []
  }
 ],
 "metadata": {
  "anaconda-cloud": {},
  "kernelspec": {
   "display_name": "Python [conda root]",
   "language": "python",
   "name": "conda-root-py"
  },
  "language_info": {
   "codemirror_mode": {
    "name": "ipython",
    "version": 3
   },
   "file_extension": ".py",
   "mimetype": "text/x-python",
   "name": "python",
   "nbconvert_exporter": "python",
   "pygments_lexer": "ipython3",
   "version": "3.5.2"
  }
 },
 "nbformat": 4,
 "nbformat_minor": 1
}
