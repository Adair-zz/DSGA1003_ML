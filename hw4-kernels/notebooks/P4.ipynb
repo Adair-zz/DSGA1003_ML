{
 "cells": [
  {
   "cell_type": "markdown",
   "metadata": {},
   "source": [
    "# 4 Kernel Matrix"
   ]
  },
  {
   "cell_type": "markdown",
   "metadata": {},
   "source": [
    "## 4-1"
   ]
  },
  {
   "cell_type": "markdown",
   "metadata": {},
   "source": [
    "By the definition of $K$, $K_{ij}=x_i^Tx_j=x_j^Tx_i$. We also have $K_{ii}=x_i^Tx_i=\\lvert \\lvert x_i\\rvert \\rvert^2$. Using these informations we can calculate $x_1^Tx_1-x_2^Tx_1-x_1^Tx_2+x_2^Tx_2=(x_1-x_2)^T(x_1-x_2)=\\lvert \\lvert x_1-x_2\\rvert \\rvert^2$. There fore $K$ contains pairwise distances information of $X$."
   ]
  },
  {
   "cell_type": "code",
   "execution_count": null,
   "metadata": {
    "collapsed": true
   },
   "outputs": [],
   "source": []
  }
 ],
 "metadata": {
  "anaconda-cloud": {},
  "kernelspec": {
   "display_name": "Python [conda root]",
   "language": "python",
   "name": "conda-root-py"
  },
  "language_info": {
   "codemirror_mode": {
    "name": "ipython",
    "version": 2
   },
   "file_extension": ".py",
   "mimetype": "text/x-python",
   "name": "python",
   "nbconvert_exporter": "python",
   "pygments_lexer": "ipython2",
   "version": "2.7.12"
  }
 },
 "nbformat": 4,
 "nbformat_minor": 1
}
