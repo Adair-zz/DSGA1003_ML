{
 "cells": [
  {
   "cell_type": "markdown",
   "metadata": {},
   "source": [
    "# 5 Kernel Ridge Regression"
   ]
  },
  {
   "cell_type": "markdown",
   "metadata": {},
   "source": [
    "## 5-1"
   ]
  },
  {
   "cell_type": "markdown",
   "metadata": {},
   "source": [
    "If $w$ is a minimizer of $J(w)$, we must have $\\frac{dJ(w)}{dw}=0$. Therefore:\n",
    "\n",
    "\\begin{split}\n",
    "\\frac{dJ(w)}{dw} = 2X^T(Xw-y)+2\\lambda Iw &= 0\\\\\n",
    "2X^TXw-2X^Ty+2\\lambda Iw &=0\\\\\n",
    "X^TXw+\\lambda Iw&=X^Ty\\\\\n",
    "(X^TX+\\lambda I)w&=X^Ty.\n",
    "\\end{split}\n",
    "\n",
    "By our conclusion from 2-3, $X^TX$ is a psd Matrix and from 3-3 $X^TX+\\lambda I$ is positive definite for any $\\lambda>0$ and is invertible. Then we have $w=(X^TX+\\lambda I)^{-1}X^Ty$."
   ]
  },
  {
   "cell_type": "markdown",
   "metadata": {
    "collapsed": true
   },
   "source": [
    "\\newpage\n",
    "## 5-2"
   ]
  },
  {
   "cell_type": "markdown",
   "metadata": {},
   "source": [
    "Since $w=\\frac{1}{\\lambda}(X^Ty-X^TXw)=\\frac{1}{\\lambda}X^T(y-Xw)$. We have $w=X\\alpha$ where $\\alpha=\\frac{1}{\\lambda}(y-Xw)$。"
   ]
  },
  {
   "cell_type": "markdown",
   "metadata": {},
   "source": [
    "\\newpage\n",
    "## 5-3"
   ]
  },
  {
   "cell_type": "markdown",
   "metadata": {},
   "source": [
    "$w=\\sum \\limits_{i=1}^n \\alpha_i xi$. Hence w must lie in the span of $x_i$, this is what we described as \"in the span of data\"."
   ]
  },
  {
   "cell_type": "markdown",
   "metadata": {},
   "source": [
    "\\newpage\n",
    "## 5-4"
   ]
  },
  {
   "cell_type": "markdown",
   "metadata": {},
   "source": [
    "\\begin{split}\n",
    "\\alpha &= \\frac{1}{\\alpha}(y-Xw)\\\\\n",
    "\\lambda I \\alpha&=y-XX^T\\alpha\\\\\n",
    "(\\lambda I-XX^T)\\alpha &=y\\\\\n",
    "\\alpha&=(\\lambda I-XX^T)^{-1}y\n",
    "\\end{split}"
   ]
  },
  {
   "cell_type": "markdown",
   "metadata": {},
   "source": [
    "\\newpage\n",
    "## 5-5"
   ]
  },
  {
   "cell_type": "markdown",
   "metadata": {},
   "source": [
    "Let $K=XX^T$\n",
    "\\begin{split}\n",
    "Xw&=XX^T\\alpha\\\\\n",
    "&=XX^T(\\lambda I-XX^T)^{-1}y\\\\\n",
    "&=K(\\lambda I-K)^{-1}y\n",
    "\\end{split}"
   ]
  },
  {
   "cell_type": "markdown",
   "metadata": {},
   "source": [
    "\\newpage\n",
    "## 5-6"
   ]
  },
  {
   "cell_type": "markdown",
   "metadata": {},
   "source": [
    "\\begin{split}\n",
    "x^Tw&=x^TX^T\\alpha\n",
    "&=k_x^T(\\lambda I-XX^T)^{-1}y\n",
    "\\end{split}"
   ]
  }
 ],
 "metadata": {
  "anaconda-cloud": {},
  "kernelspec": {
   "display_name": "Python [conda root]",
   "language": "python",
   "name": "conda-root-py"
  },
  "language_info": {
   "codemirror_mode": {
    "name": "ipython",
    "version": 2
   },
   "file_extension": ".py",
   "mimetype": "text/x-python",
   "name": "python",
   "nbconvert_exporter": "python",
   "pygments_lexer": "ipython2",
   "version": "2.7.12"
  }
 },
 "nbformat": 4,
 "nbformat_minor": 1
}
