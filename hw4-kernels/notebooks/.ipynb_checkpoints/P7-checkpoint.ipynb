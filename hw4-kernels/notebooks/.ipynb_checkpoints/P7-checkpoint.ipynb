{
 "cells": [
  {
   "cell_type": "markdown",
   "metadata": {},
   "source": [
    "# 7 Kernelized Pegasos"
   ]
  },
  {
   "cell_type": "markdown",
   "metadata": {},
   "source": [
    "\\newpage\n",
    "## 7-1"
   ]
  },
  {
   "cell_type": "markdown",
   "metadata": {},
   "source": [
    "The margin of SVM is $y_iw^Tx_i$. By Representer's theorem, $w=\\sum \\limits_{i=1}^n$. Therefore:\n",
    "\\begin{split}\n",
    "y_j w^T x_j&=y_j\\sum \\limits_{i=1}^n \\alpha_i^{(t)}x_i xj\\\\\n",
    "&=y_j \\sum \\limits_{i=1}^n \\alpha_i^{(t)} <x_i,x_j>\\\\\n",
    "&=y_jK_j^T\\alpha^{(t)}\n",
    "\\end{split}"
   ]
  },
  {
   "cell_type": "markdown",
   "metadata": {},
   "source": [
    "\\newpage\n",
    "## 7-2"
   ]
  },
  {
   "cell_type": "markdown",
   "metadata": {},
   "source": [
    "If t+1 step does not violate margin, then $\\alpha_{i}^{(t+1)}=(1-\\eta_t\\lambda)\\alpha_i^{(t)}$"
   ]
  },
  {
   "cell_type": "markdown",
   "metadata": {},
   "source": [
    "\\newpage\n",
    "## 7-3"
   ]
  },
  {
   "cell_type": "markdown",
   "metadata": {},
   "source": [
    "If t+1 step does violate margin, then first update $\\alpha_i^{(t+1)}=(1-\\eta_t \\lambda)\\alpha_i^{(t)}$"
   ]
  },
  {
   "cell_type": "code",
   "execution_count": null,
   "metadata": {
    "collapsed": true
   },
   "outputs": [],
   "source": []
  }
 ],
 "metadata": {
  "kernelspec": {
   "display_name": "Python [conda root]",
   "language": "python",
   "name": "conda-root-py"
  },
  "language_info": {
   "codemirror_mode": {
    "name": "ipython",
    "version": 2
   },
   "file_extension": ".py",
   "mimetype": "text/x-python",
   "name": "python",
   "nbconvert_exporter": "python",
   "pygments_lexer": "ipython2",
   "version": "2.7.12"
  }
 },
 "nbformat": 4,
 "nbformat_minor": 1
}
