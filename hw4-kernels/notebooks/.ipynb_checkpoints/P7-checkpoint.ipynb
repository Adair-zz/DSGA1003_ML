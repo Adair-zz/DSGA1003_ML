{
 "cells": [
  {
   "cell_type": "markdown",
   "metadata": {},
   "source": [
    "# 7 Kernelized Pegasos"
   ]
  },
  {
   "cell_type": "markdown",
   "metadata": {},
   "source": [
    "\\newpage\n",
    "## 7-1"
   ]
  },
  {
   "cell_type": "markdown",
   "metadata": {},
   "source": [
    "The margin of SVM is $y_iw^Tx_i$. By Representer's theorem, $w=\\sum \\limits_{i=1}^n$. Therefore:\n",
    "\\begin{split}\n",
    "y_j w^T x_j&=y_j\\sum \\limits_{i=1}^n \\alpha_i^{(t)}x_i xj\\\\\n",
    "&=y_j \\sum \\limits_{i=1}^n \\alpha_i^{(t)} <x_i,x_j>\\\\\n",
    "&=y_jK_j^T\\alpha^{(t)}\n",
    "\\end{split}"
   ]
  },
  {
   "cell_type": "markdown",
   "metadata": {},
   "source": [
    "\\newpage\n",
    "## 7-2"
   ]
  },
  {
   "cell_type": "markdown",
   "metadata": {},
   "source": [
    "By Pegaso Algorithm,If t+1 step does not violate margin:\n",
    "\\begin{split}\n",
    "w^{(t+1)}&=(1-\\eta^{(t)}\\lambda)w^{(t)}\\\\\n",
    "X^T\\alpha^{(t+1)}&=(1-\\eta^{(t)}\\lambda)X^T\\alpha^{(t)}\\\\\n",
    "\\alpha^{(t+1)}&=(1-\\eta^{(t)}\\lambda)\\alpha^{(t)}\n",
    "\\end{split}"
   ]
  },
  {
   "cell_type": "markdown",
   "metadata": {},
   "source": [
    "Algorithm step: If t+1 step does not violate margin, then $\\alpha_{i}^{(t+1)}=(1-\\eta_t\\lambda)\\alpha_i^{(t)}$"
   ]
  },
  {
   "cell_type": "markdown",
   "metadata": {},
   "source": [
    "\\newpage\n",
    "## 7-3\n",
    "Define (0,0,...,1,...,0) as a vector of dimension n where $j^{th}$ element is 1 and other elements are zeros.\n",
    "If t+1 step, the prediction on point $x_j$ does violate margin:\n",
    "\\begin{split}\n",
    "w^{(t+1)}&=(1-\\eta^{(t)}\\lambda)w^{(t)}+\\eta_ty_jx_j\\\\\n",
    "X^T\\alpha^{(t+1)}&=(1-\\eta^{(t)}\\lambda)X^T\\alpha^{(t)}+\\eta_ty_jX^T(0,0,...,1,...,0)\\\\\n",
    "\\alpha^{(t+1)}&=(1-\\eta^{(t)}\\lambda)\\alpha^{(t)}+\\eta_ty_j(0,0,...,1,...,0)\n",
    "\\end{split}"
   ]
  },
  {
   "cell_type": "markdown",
   "metadata": {},
   "source": [
    "Algorithm step: If t+1 step, the prediction on point $x_j$ does violate margin, then first update $\\alpha_i^{(t+1)}=(1-\\eta_t \\lambda)\\alpha_i^{(t)}$\n",
    "Then we add the $j^{th}$ element of $\\alpha_t$ with $y_jx_j$"
   ]
  },
  {
   "cell_type": "markdown",
   "metadata": {
    "collapsed": true
   },
   "source": [
    "Psuedo Code:"
   ]
  },
  {
   "cell_type": "markdown",
   "metadata": {},
   "source": [
    "<img src=\"./imgs/KernelizedPegasos_show.png\" />"
   ]
  }
 ],
 "metadata": {
  "anaconda-cloud": {},
  "kernelspec": {
   "display_name": "Python [conda root]",
   "language": "python",
   "name": "conda-root-py"
  },
  "language_info": {
   "codemirror_mode": {
    "name": "ipython",
    "version": 2
   },
   "file_extension": ".py",
   "mimetype": "text/x-python",
   "name": "python",
   "nbconvert_exporter": "python",
   "pygments_lexer": "ipython2",
   "version": "2.7.12"
  }
 },
 "nbformat": 4,
 "nbformat_minor": 1
}
