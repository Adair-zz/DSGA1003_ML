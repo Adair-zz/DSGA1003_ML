{
 "cells": [
  {
   "cell_type": "markdown",
   "metadata": {},
   "source": [
    "# 1)"
   ]
  },
  {
   "cell_type": "markdown",
   "metadata": {},
   "source": [
    "$$\n",
    "\\begin{split}\n",
    "L'(0:v) &= \\lim_{h \\to 0^+} \\frac{L(hv)-L(0)}{h} \\\\\n",
    "&= \\lim_{h \\to 0^+} \\frac{\\lvert \\lvert hxv-y \\rvert \\rvert^2+\\lambda h \\lvert \\lvert v \\rvert \\rvert-\\lvert \\lvert y \\rvert \\rvert^2}{h}\n",
    "\\end{split}\n",
    "$$\n",
    "\n",
    "Apply L'Hopital Rule:\n",
    "$$\n",
    "\\begin{split}\n",
    "L'(0:v) &= (\\lim_{h \\to 0^+} 2(hxv - y)^Txv) +\\lambda\\\\\n",
    "&= -2y^Txv + \\lambda\n",
    "\\end{split}\n",
    "$$"
   ]
  },
  {
   "cell_type": "markdown",
   "metadata": {},
   "source": [
    "# 2)"
   ]
  },
  {
   "cell_type": "markdown",
   "metadata": {},
   "source": [
    "If $L'(0:v) \\leq 0$ we must have $\\lambda \\leq 2y^Txv$. Hence the lower bound of $\\lambda$ is $2y^Txv$"
   ]
  },
  {
   "cell_type": "markdown",
   "metadata": {},
   "source": [
    "# 3)"
   ]
  },
  {
   "cell_type": "code",
   "execution_count": null,
   "metadata": {
    "collapsed": true
   },
   "outputs": [],
   "source": [
    " "
   ]
  }
 ],
 "metadata": {
  "anaconda-cloud": {},
  "kernelspec": {
   "display_name": "Python [conda root]",
   "language": "python",
   "name": "conda-root-py"
  },
  "language_info": {
   "codemirror_mode": {
    "name": "ipython",
    "version": 3
   },
   "file_extension": ".py",
   "mimetype": "text/x-python",
   "name": "python",
   "nbconvert_exporter": "python",
   "pygments_lexer": "ipython3",
   "version": "3.5.2"
  }
 },
 "nbformat": 4,
 "nbformat_minor": 1
}
