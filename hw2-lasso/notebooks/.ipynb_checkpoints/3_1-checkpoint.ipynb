{
 "cells": [
  {
   "cell_type": "code",
   "execution_count": 29,
   "metadata": {
    "collapsed": false
   },
   "outputs": [],
   "source": [
    "# Import dataset\n",
    "import numpy as np\n",
    "#import pandas as pd\n",
    "from scipy.optimize import minimize\n",
    "# train_X = pd.read_csv('../p1Data/train_X.csv',header=None)\n",
    "# train_y = pd.read_csv('../p1Data/train_y.csv',header=None)\n",
    "# validation_X = pd.read_csv('../p1Data/validation_X.csv',header=None)\n",
    "# validation_y = pd.read_csv('../p1Data/validation_y.csv',header=None)\n",
    "train_X = np.genfromtxt('../p1Data/train_X.csv',delimiter=',')\n",
    "train_y = np.genfromtxt('../p1Data/train_y.csv',delimiter=',')\n",
    "validation_X = np.genfromtxt('../p1Data/validation_X.csv',delimiter=',')\n",
    "validation_y = np.genfromtxt('../p1Data/validation_y.csv',delimiter=',')\n",
    "test_X = np.genfromtxt('../p1Data/test_X.csv',delimiter=',')\n",
    "test_y = np.genfromtxt('../p1Data/test_y.csv',delimiter=',')"
   ]
  },
  {
   "cell_type": "markdown",
   "metadata": {},
   "source": [
    "\\newpage"
   ]
  },
  {
   "cell_type": "markdown",
   "metadata": {},
   "source": [
    "# 3_1_1"
   ]
  },
  {
   "cell_type": "code",
   "execution_count": 24,
   "metadata": {
    "collapsed": true
   },
   "outputs": [],
   "source": [
    "import time"
   ]
  },
  {
   "cell_type": "code",
   "execution_count": 33,
   "metadata": {
    "collapsed": false
   },
   "outputs": [],
   "source": [
    "# Calculate closed form solution for lasso regression using Shooting Algorithm\n",
    "def lasso_shooting(X,y,lambda_reg=0.1,max_steps = 1000,tolerence = 1e-5):\n",
    "    start_time = time.time()\n",
    "    converge = False\n",
    "    steps = 0\n",
    "    #Get dimension info\n",
    "    n = X.shape[0]\n",
    "    d = X.shape[1]\n",
    "    #initializing theta\n",
    "    w = np.linalg.inv(X.T.dot(X)+lambda_reg*np.identity(d)).dot(X.T).dot(y) # result w dimension: d\n",
    "    def soft(a,delta):\n",
    "        sign_a = np.sign(a)\n",
    "        if np.abs(a)-delta <0:\n",
    "            return 0 \n",
    "        else:\n",
    "            return sign_a*(abs(a)-delta)\n",
    "    while converge==False and steps<max_steps:\n",
    "        a = []\n",
    "        c = []\n",
    "        old_w = w\n",
    "    ####For loop for computing aj cj w\n",
    "        for j in range(d):\n",
    "            aj = 0\n",
    "            cj = 0\n",
    "            for i in range(n):\n",
    "                xij = X[i,j]\n",
    "                aj += 2*xij*xij\n",
    "                cj += 2*xij*(y[i]-w.T.dot(X[i,:])+w[j]*xij)\n",
    "            w[j] = soft(cj/aj,lambda_reg/aj)\n",
    "            convergence = np.sum(np.abs(w-old_w))<tolerence\n",
    "            a.append(aj)\n",
    "            c.append(cj)\n",
    "        steps +=1\n",
    "        a = np.array(a)\n",
    "        c = np.array(c)\n",
    "    run_time = time.time()-start_time\n",
    "    print('lambda:',lambda_reg,'run_time:',run_time,'steps_taken:',steps)\n",
    "    return w,a,c"
   ]
  },
  {
   "cell_type": "code",
   "execution_count": null,
   "metadata": {
    "collapsed": false
   },
   "outputs": [],
   "source": [
    "sqr_loss = []\n",
    "for i in range(-5,4):\n",
    "    lambda_reg = 10**i \n",
    "    w,a,c = lasso_shooting(train_X,train_y,lambda_reg)\n",
    "    validation_predict = validation_X.dot(w)\n",
    "    diff = validation_predict - validation_y\n",
    "    sqr_loss.append(1/validation_y.shape[0]*np.dot(diff,diff.T))\n",
    "import matplotlib.pyplot as plt\n",
    "plt.plot(np.arange(0.1,1,0.1),np.log(sqr_loss))\n",
    "plt.show()"
   ]
  },
  {
   "cell_type": "markdown",
   "metadata": {},
   "source": [
    "The sqaure loss on validation set reach minimun when $\\lambda = 0.5$."
   ]
  },
  {
   "cell_type": "markdown",
   "metadata": {},
   "source": [
    "\\newpage"
   ]
  },
  {
   "cell_type": "markdown",
   "metadata": {},
   "source": [
    "# 3_1_2"
   ]
  },
  {
   "cell_type": "code",
   "execution_count": 36,
   "metadata": {
    "collapsed": false
   },
   "outputs": [
    {
     "name": "stdout",
     "output_type": "stream",
     "text": [
      "lambda: 0.5 run_time: 18.43110227584839 steps_taken: 1000\n"
     ]
    }
   ],
   "source": [
    "w,a,c = lasso_shooting(train_X,train_y,lambda_reg=0.5)"
   ]
  },
  {
   "cell_type": "code",
   "execution_count": 37,
   "metadata": {
    "collapsed": false
   },
   "outputs": [
    {
     "data": {
      "text/plain": [
       "11"
      ]
     },
     "execution_count": 37,
     "metadata": {},
     "output_type": "execute_result"
    }
   ],
   "source": [
    "threshold = 0.001\n",
    "w[(w<threshold)&(w>-threshold)] = 0\n",
    "# Measure the sparsity of result\n",
    "len(w[10:][w[10:]!=0])"
   ]
  },
  {
   "cell_type": "markdown",
   "metadata": {},
   "source": [
    "11 out of 65 zero values have been estimated to be non-zero. (threshold = 0.001)"
   ]
  },
  {
   "cell_type": "markdown",
   "metadata": {},
   "source": [
    "\\newpage"
   ]
  },
  {
   "cell_type": "markdown",
   "metadata": {},
   "source": [
    "# 3_1_3"
   ]
  },
  {
   "cell_type": "code",
   "execution_count": 20,
   "metadata": {
    "collapsed": false
   },
   "outputs": [],
   "source": [
    "# Warstarting\n",
    "lambda_max = max(2*np.abs(train_X.T.dot(train_y)))\n",
    "def warm_start(X,y,lambda_reg=0.1,steps = 1000):\n",
    "    #Get dimension info\n",
    "    n = X.shape[0]\n",
    "    d = X.shape[1]\n",
    "    #initializing theta\n",
    "    w = np.zeros(d) # result w dimension: d\n",
    "    def soft(a,delta):\n",
    "        sign_a = np.sign(a)\n",
    "        if np.abs(a)-delta <0:\n",
    "            return 0 \n",
    "        else:\n",
    "            return sign_a*(abs(a)-delta)\n",
    "    for step in range(steps):\n",
    "        a = []\n",
    "        c = []\n",
    "    ####For loop for computing aj cj wj\n",
    "        for j in range(d):\n",
    "            aj = 0\n",
    "            cj = 0\n",
    "            for i in range(n):\n",
    "                xij = X[i,j]\n",
    "                aj += 2*xij*xij\n",
    "                cj += 2*xij*(y[i]-w.T.dot(X[i,:])+w[j]*xij)\n",
    "            w[j] = soft(cj/aj,lambda_reg/aj)\n",
    "            a.append(aj)\n",
    "            c.append(cj)\n",
    "        a = np.array(a)\n",
    "        c = np.array(c)\n",
    "    return w,a,c"
   ]
  },
  {
   "cell_type": "code",
   "execution_count": 23,
   "metadata": {
    "collapsed": false
   },
   "outputs": [
    {
     "data": {
      "text/plain": [
       "array([ 0.,  0.,  0.,  0.,  0.,  0.,  0.,  0.,  0.,  0.,  0.,  0.,  0.,\n",
       "        0.,  0.,  0.,  0.,  0.,  0.,  0.,  0.,  0.,  0.,  0.,  0.,  0.,\n",
       "        0.,  0., -0.,  0.,  0.,  0.,  0.,  0.,  0.,  0.,  0.,  0.,  0.,\n",
       "        0.,  0.,  0.,  0.,  0.,  0.,  0.,  0.,  0.,  0.,  0.,  0.,  0.,\n",
       "        0.,  0.,  0.,  0.,  0.,  0.,  0.,  0.,  0.,  0.,  0.,  0.,  0.,\n",
       "        0.,  0.,  0.,  0.,  0.,  0.,  0.,  0.,  0.,  0.])"
      ]
     },
     "execution_count": 23,
     "metadata": {},
     "output_type": "execute_result"
    }
   ],
   "source": [
    "w_start,_,_ = warm_start(train_X,train_y,lambda_reg=lambda_max)\n",
    "w_start"
   ]
  },
  {
   "cell_type": "markdown",
   "metadata": {},
   "source": [
    "\\newpage"
   ]
  },
  {
   "cell_type": "markdown",
   "metadata": {},
   "source": [
    "# 3_1_4"
   ]
  },
  {
   "cell_type": "code",
   "execution_count": 43,
   "metadata": {
    "collapsed": true
   },
   "outputs": [],
   "source": [
    "def lasso_shooting_vectorize(X,y,lambda_reg=0.1,max_steps = 1000,tolerence = 1e-5):\n",
    "    start_time = time.time()\n",
    "    n = X.shape[0]\n",
    "    d = X.shape[1]\n",
    "    #initializing theta\n",
    "    w = np.linalg.inv(X.T.dot(X)+lambda_reg*np.identity(d)).dot(X.T).dot(y) # result w dimension: d\n",
    "    steps = 0\n",
    "    def soft(a,delta):\n",
    "        sign_a = np.sign(a)\n",
    "        pos_part = np.abs(a)-delta\n",
    "        pos_part[pos_part<0] = 0  \n",
    "        return sign_a*pos_part\n",
    "    # Instead of loop calculate a c w using matrix operation\n",
    "    # Store a c w into three d-dimension vector\n",
    "    # a can be calculated using the diagonal elements of XT.X\n",
    "    while converge==False and steps<max_steps:\n",
    "        steps+=1\n",
    "        old_w = w\n",
    "        a = 2*X.T.dot(X).diagonal()\n",
    "        # steps for calculating c\n",
    "        # duplicate y-wx d times\n",
    "        y_wx = np.tile(y-X.dot(w),(d,1))\n",
    "        # duplicate w n times\n",
    "        w_n = np.tile(w,(n,1))\n",
    "        # elementwise multiplication of w_n and x\n",
    "        wjxij =w_n*X\n",
    "        # elementwise addition \n",
    "        right = y_wx.T + wixij\n",
    "        # return c\n",
    "        c = 2*(X.T.dot(right).diagonal())\n",
    "        w = soft(a/c,lambda_reg/a)\n",
    "        convergence = np.sum(np.abs(w-old_w))<tolerence\n",
    "        run_time = time.time()-start_time\n",
    "        print('lambda:',lambda_reg,'run_time:',run_time,'steps_taken:',steps)\n",
    "    return w"
   ]
  },
  {
   "cell_type": "code",
   "execution_count": null,
   "metadata": {
    "collapsed": true
   },
   "outputs": [],
   "source": []
  },
  {
   "cell_type": "code",
   "execution_count": null,
   "metadata": {
    "collapsed": true
   },
   "outputs": [],
   "source": []
  }
 ],
 "metadata": {
  "anaconda-cloud": {},
  "kernelspec": {
   "display_name": "Python [conda root]",
   "language": "python",
   "name": "conda-root-py"
  },
  "language_info": {
   "codemirror_mode": {
    "name": "ipython",
    "version": 3
   },
   "file_extension": ".py",
   "mimetype": "text/x-python",
   "name": "python",
   "nbconvert_exporter": "python",
   "pygments_lexer": "ipython3",
   "version": "3.5.2"
  }
 },
 "nbformat": 4,
 "nbformat_minor": 1
}
