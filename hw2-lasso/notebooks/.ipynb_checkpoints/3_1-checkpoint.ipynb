{
 "cells": [
  {
   "cell_type": "code",
   "execution_count": 25,
   "metadata": {
    "collapsed": true
   },
   "outputs": [],
   "source": [
    "# Import dataset\n",
    "import numpy as np\n",
    "#import pandas as pd\n",
    "from scipy.optimize import minimize\n",
    "# train_X = pd.read_csv('../p1Data/train_X.csv',header=None)\n",
    "# train_y = pd.read_csv('../p1Data/train_y.csv',header=None)\n",
    "# validation_X = pd.read_csv('../p1Data/validation_X.csv',header=None)\n",
    "# validation_y = pd.read_csv('../p1Data/validation_y.csv',header=None)\n",
    "train_X = np.genfromtxt('../p1Data/train_X.csv',delimiter=',')\n",
    "train_y = np.genfromtxt('../p1Data/train_y.csv',delimiter=',')\n",
    "validation_X = np.genfromtxt('../p1Data/validation_X.csv',delimiter=',')\n",
    "validation_y = np.genfromtxt('../p1Data/validation_y.csv',delimiter=',')\n",
    "test_X = np.genfromtxt('../p1Data/test_X.csv',delimiter=',')\n",
    "test_y = np.genfromtxt('../p1Data/test_y.csv',delimiter=',')"
   ]
  },
  {
   "cell_type": "code",
   "execution_count": 153,
   "metadata": {
    "collapsed": true
   },
   "outputs": [],
   "source": [
    "# Calculate closed form solution for lasso regression using Shooting Algorithm\n",
    "def lasso_shooting(X,y,lambda_reg=0.1):\n",
    "    #Get dimension info\n",
    "    n = X.shape[0]\n",
    "    d = X.shape[1]\n",
    "    #initializing theta\n",
    "    w = np.linalg.inv(X.T.dot(X)+lambda_reg*np.identity(d)).dot(X.T).dot(y) # result w dimension: d\n",
    "    def soft(a,delta):\n",
    "        sign_a = np.sign(a)\n",
    "        if np.abs(a)-delta <0:\n",
    "            return 0 \n",
    "        else:\n",
    "            return sign_a*(abs(a)-delta)\n",
    "    a = []\n",
    "    c = []\n",
    "####For loop for computing aj cj wj\n",
    "    for j in range(d):\n",
    "        aj = 0\n",
    "        cj = 0\n",
    "        for i in range(n):\n",
    "            xij = X[i,j]\n",
    "            aj += 2*xij*xij\n",
    "            cj += 2*xij*(y[i]-w.T.dot(X[i,:])+w[j]*xij)\n",
    "        w[j] = soft(cj/aj,lambda_reg/aj)\n",
    "        a.append(aj)\n",
    "        c.append(cj)\n",
    "    a = np.array(a)\n",
    "    c = np.array(c)\n",
    "    return w,a,c"
   ]
  },
  {
   "cell_type": "code",
   "execution_count": 155,
   "metadata": {
    "collapsed": false
   },
   "outputs": [
    {
     "data": {
      "image/png": "[encoded data removed]",
      "text/plain": [
       "<matplotlib.figure.Figure at 0x1d5da631400>"
      ]
     },
     "metadata": {},
     "output_type": "display_data"
    }
   ],
   "source": [
    "sqr_loss = []\n",
    "for lambda_reg in np.arange(0.01,0.1,0.01):\n",
    "    w,a,c = lasso_shooting(train_X,train_y,lambda_reg)\n",
    "    validation_predict = validation_X.dot(w)\n",
    "    diff = validation_predict - validation_y\n",
    "    sqr_loss.append(1/validation_y.shape[0]*np.dot(diff,diff.T))\n",
    "import matplotlib.pyplot as plt\n",
    "plt.plot(np.arange(0.01,0.1,0.01),sqr_loss)\n",
    "plt.show()"
   ]
  },
  {
   "cell_type": "code",
   "execution_count": 144,
   "metadata": {
    "collapsed": true
   },
   "outputs": [],
   "source": [
    "def lasso_shooting_vectorize(X,y,lambda_reg=0.1):\n",
    "    n = X.shape[0]\n",
    "    d = X.shape[1]\n",
    "    #initializing theta\n",
    "    w = np.linalg.inv(X.T.dot(X)+lambda_reg*np.identity(d)).dot(X.T).dot(y) # result w dimension: d\n",
    "    def soft(a,delta):\n",
    "        sign_a = np.sign(a)\n",
    "        pos_part = np.abs(a)-delta\n",
    "        pos_part[pos_part<0] = 0  \n",
    "        return sign_a*pos_part\n",
    "    # Instead of loop calculate a c w using matrix operation\n",
    "    # Store a c w into three d-dimension vector\n",
    "    # a can be calculated using the diagonal elements of XT.X\n",
    "    a = 2*X.T.dot(X).diagonal()\n",
    "    # steps for calculating c\n",
    "    # duplicate y-wx d times\n",
    "    y_wx = np.tile(y-X.dot(w),(d,1))\n",
    "    # duplicate w n times\n",
    "    w_n = np.tile(w,(n,1))\n",
    "    # elementwise multiplication of w_n and x\n",
    "    wixij =w_n*X\n",
    "    # elementwise addition \n",
    "    right = y_wx.T + wixij\n",
    "    # return c\n",
    "    c = 2*(X.T.dot(right).diagonal())\n",
    "    w = soft(a/c,lambda_reg/a)\n",
    "    return a,c,w"
   ]
  },
  {
   "cell_type": "code",
   "execution_count": 145,
   "metadata": {
    "collapsed": false
   },
   "outputs": [],
   "source": [
    "#Debug Session\n",
    "X = train_X\n",
    "y = train_y\n",
    "n = X.shape[0]\n",
    "d = X.shape[1]"
   ]
  },
  {
   "cell_type": "code",
   "execution_count": 147,
   "metadata": {
    "collapsed": false
   },
   "outputs": [
    {
     "data": {
      "text/plain": [
       "(array([  0.00000000e+00,   0.00000000e+00,   0.00000000e+00,\n",
       "         -7.10542736e-15,  -7.10542736e-15,   7.10542736e-15,\n",
       "          7.10542736e-15,   0.00000000e+00,   0.00000000e+00,\n",
       "          0.00000000e+00,   0.00000000e+00,  -7.10542736e-15,\n",
       "          0.00000000e+00,   0.00000000e+00,  -7.10542736e-15,\n",
       "          0.00000000e+00,   0.00000000e+00,   7.10542736e-15,\n",
       "          0.00000000e+00,   0.00000000e+00,  -7.10542736e-15,\n",
       "          0.00000000e+00,   7.10542736e-15,   0.00000000e+00,\n",
       "          7.10542736e-15,   0.00000000e+00,   0.00000000e+00,\n",
       "          1.42108547e-14,   0.00000000e+00,   0.00000000e+00,\n",
       "          0.00000000e+00,   0.00000000e+00,  -7.10542736e-15,\n",
       "          0.00000000e+00,   0.00000000e+00,  -7.10542736e-15,\n",
       "         -7.10542736e-15,   0.00000000e+00,  -7.10542736e-15,\n",
       "          0.00000000e+00,   0.00000000e+00,  -7.10542736e-15,\n",
       "          0.00000000e+00,   0.00000000e+00,  -7.10542736e-15,\n",
       "          0.00000000e+00,   7.10542736e-15,   1.42108547e-14,\n",
       "          0.00000000e+00,   0.00000000e+00,   0.00000000e+00,\n",
       "          0.00000000e+00,   0.00000000e+00,   0.00000000e+00,\n",
       "          0.00000000e+00,   0.00000000e+00,   0.00000000e+00,\n",
       "          0.00000000e+00,  -7.10542736e-15,   7.10542736e-15,\n",
       "          0.00000000e+00,   0.00000000e+00,   0.00000000e+00,\n",
       "          0.00000000e+00,   0.00000000e+00,   0.00000000e+00,\n",
       "          7.10542736e-15,   0.00000000e+00,   0.00000000e+00,\n",
       "          1.42108547e-14,  -2.13162821e-14,   0.00000000e+00,\n",
       "         -1.42108547e-14,   0.00000000e+00,   0.00000000e+00]),\n",
       " array([ 0.        , -1.06680945,  0.90672791,  1.73811466,  1.64946585,\n",
       "        -0.74636221,  1.03510867,  1.37994727,  1.59548952, -0.59422556,\n",
       "        -1.98658172, -0.06558903,  0.05634995,  0.07745061, -0.35895793,\n",
       "         0.19161424,  0.30683662, -0.16423748, -0.27708074,  0.31734508,\n",
       "         0.08620938,  0.02589747, -0.40020707,  0.12129767,  0.23766748,\n",
       "        -0.26948268,  0.14337951, -0.07826112, -0.21436849, -0.27718292,\n",
       "         0.05888568,  0.16451169,  0.11520139,  0.02887749,  0.19422065,\n",
       "        -0.51030656,  0.06910671,  0.04125745, -0.26530911,  0.72574585,\n",
       "        -0.10850148, -0.21563065,  0.08143382,  0.20911676, -0.29699887,\n",
       "         0.03557948, -0.13620108,  0.21302353,  0.02801047, -0.16627283,\n",
       "        -0.05679638, -0.02232739,  0.05472834,  0.02694098,  0.29836483,\n",
       "        -0.28048142, -0.15947367,  0.24412427,  0.04221877, -0.427701  ,\n",
       "         0.21543397,  0.1284454 ,  0.10809787, -0.45821529,  0.01553275,\n",
       "        -0.05344682,  0.38733497,  0.03678494, -0.4849776 , -0.09014585,\n",
       "         0.28590949,  0.04920155, -0.12792414,  0.09018758,  0.04996041]))"
      ]
     },
     "execution_count": 147,
     "metadata": {},
     "output_type": "execute_result"
    }
   ],
   "source": [
    "w,a,c = lasso_shooting(train_X,train_y)\n",
    "a_vec,c_vec,w_vec = lasso_shooting_vectorize(train_X,train_y)\n",
    "a-a_vec,c-c_vec"
   ]
  },
  {
   "cell_type": "code",
   "execution_count": 148,
   "metadata": {
    "collapsed": false
   },
   "outputs": [
    {
     "data": {
      "text/plain": [
       "array([  9.67680142e+00,  -9.71029138e+00,  -1.02418810e+01,\n",
       "        -9.31004806e+00,   9.07793212e+00,  -9.05999811e+00,\n",
       "        -8.52184963e+00,  -1.00282071e+01,   9.51529584e+00,\n",
       "         9.72904346e+00,   1.46758745e-01,   4.69181108e-02,\n",
       "         4.33935470e-01,   1.93589905e-01,   1.43468906e-01,\n",
       "         9.63279800e-01,  -5.98100557e-01,  -1.19351286e-01,\n",
       "         7.45337342e-01,   2.69650796e-01,  -7.69002735e-01,\n",
       "        -7.82289392e-02,  -6.16745461e-01,  -1.14938799e-01,\n",
       "        -7.23383234e-04,  -3.86380207e-01,  -4.29700888e-02,\n",
       "         2.09351381e-01,  -2.40513976e-01,  -2.32339738e-01,\n",
       "        -2.44514305e-01,   9.82460656e-02,  -2.52070358e-01,\n",
       "        -4.99861848e-01,  -5.23846078e-01,   1.61702461e-01,\n",
       "        -2.11407781e-01,   4.79632170e-01,   5.91968679e-01,\n",
       "        -8.15972445e-01,   3.92547647e-01,  -4.77958953e-01,\n",
       "         4.79173879e-01,  -1.86983214e-01,   7.28736700e-02,\n",
       "        -1.70861207e-01,   3.28543324e-01,  -2.94174863e-01,\n",
       "         6.26949454e-01,  -5.27520635e-01,   4.61358414e-02,\n",
       "         4.36444652e-01,   8.17428414e-01,  -7.79178127e-01,\n",
       "        -1.66656186e-01,  -1.00827051e-01,  -3.79601132e-01,\n",
       "        -9.35739000e-01,  -1.10949788e-01,   8.95275025e-01,\n",
       "        -8.96376359e-01,  -3.41062520e-02,  -2.99199941e-01,\n",
       "         1.77139177e-01,   3.83786326e-01,   9.40102266e-03,\n",
       "        -3.68182629e-01,  -3.47763512e-01,   7.68767746e-01,\n",
       "         6.68392080e-02,  -6.49861017e-01,  -7.49207271e-02,\n",
       "         3.97887243e-01,   4.86771276e-01,   1.60832851e-01])"
      ]
     },
     "execution_count": 148,
     "metadata": {},
     "output_type": "execute_result"
    }
   ],
   "source": [
    "w"
   ]
  },
  {
   "cell_type": "code",
   "execution_count": null,
   "metadata": {
    "collapsed": true
   },
   "outputs": [],
   "source": []
  }
 ],
 "metadata": {
  "anaconda-cloud": {},
  "kernelspec": {
   "display_name": "Python [conda root]",
   "language": "python",
   "name": "conda-root-py"
  },
  "language_info": {
   "codemirror_mode": {
    "name": "ipython",
    "version": 3
   },
   "file_extension": ".py",
   "mimetype": "text/x-python",
   "name": "python",
   "nbconvert_exporter": "python",
   "pygments_lexer": "ipython3",
   "version": "3.5.2"
  }
 },
 "nbformat": 4,
 "nbformat_minor": 1
}
