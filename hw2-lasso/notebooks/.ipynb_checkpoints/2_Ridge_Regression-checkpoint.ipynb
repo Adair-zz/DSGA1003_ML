{
 "cells": [
  {
   "cell_type": "code",
   "execution_count": 8,
   "metadata": {
    "collapsed": false
   },
   "outputs": [],
   "source": [
    "# Import dataset\n",
    "import numpy as np\n",
    "#import pandas as pd\n",
    "from scipy.optimize import minimize\n",
    "# train_X = pd.read_csv('../p1Data/train_X.csv',header=None)\n",
    "# train_y = pd.read_csv('../p1Data/train_y.csv',header=None)\n",
    "# validation_X = pd.read_csv('../p1Data/validation_X.csv',header=None)\n",
    "# validation_y = pd.read_csv('../p1Data/validation_y.csv',header=None)\n",
    "train_X = np.genfromtxt('../p1Data/train_X.csv',delimiter=',')\n",
    "train_y = np.genfromtxt('../p1Data/train_y.csv',delimiter=',')\n",
    "validataion_X = np.genfromtxt('../p1Data/validation_X.csv',delimiter=',')\n",
    "validation_y = np.genfromtxt('../p1Data/validation_y.csv',delimiter=',')"
   ]
  },
  {
   "cell_type": "code",
   "execution_count": 13,
   "metadata": {
    "collapsed": true
   },
   "outputs": [],
   "source": [
    "#Define objective function of ridge regression\n",
    "def l2_objective(theta,X,y,lambda_reg = 0.1):\n",
    "    # X dimension: (m,d)\n",
    "    # theta dimension d\n",
    "    # y dimension: m\n",
    "    diff = np.dot(X,theta)-y.T\n",
    "    sqr_loss = 0.5/m*np.dot(diff,diff.T)\n",
    "    l2_reg_term = lambda_reg*np.dot(theta,theta)\n",
    "    return sqr_loss+l2_reg_term\n",
    "\n",
    "#Function to compute the Hessian of l2 objective\n",
    "def l2_hess(theta,X, y, lambda_reg=0.1):\n",
    "    \"\"\"\n",
    "    Compute the gradient of L2-regularized square loss function given X, y and theta\n",
    "    \n",
    "    Args:\n",
    "        X - the feature vector, 2D numpy array of size (num_instances, num_features)\n",
    "        y - the label vector, 1D numpy array of size (num_instances)\n",
    "        theta - the parameter vector, 1D numpy array of size (num_features)\n",
    "        lambda_reg - the regularization coefficient\n",
    "    \n",
    "    Returns:\n",
    "        grad - gradient vector, 1D numpy array of size (num_features)\n",
    "    \"\"\"\n",
    "    diff = np.dot(X,theta.T)-y.T\n",
    "    sqr_loss_grad = np.dot(diff,X)\n",
    "    regularization_gradient = 2*lambda_reg*theta\n",
    "    return (sqr_loss_grad+regularization_gradient)"
   ]
  },
  {
   "cell_type": "code",
   "execution_count": 14,
   "metadata": {
    "collapsed": true
   },
   "outputs": [],
   "source": [
    "# Dimension information\n",
    "m,d = train_X.shape[0],train_X.shape[1]\n",
    "# Initialize theta with ones\n",
    "theta = np.ones(d)"
   ]
  },
  {
   "cell_type": "code",
   "execution_count": 15,
   "metadata": {
    "collapsed": false
   },
   "outputs": [
    {
     "data": {
      "text/plain": [
       "array([ 1843.34290984,  1911.54124453,  1824.40392652,  2179.86963953,\n",
       "        1960.9329328 ,  2076.03426759,  1787.38589426,  2286.34640814,\n",
       "        1861.22077729,  1716.91627272,  2210.6632316 ,  1754.12488685,\n",
       "        1867.89328568,  1851.3553766 ,  1857.82914181,  2026.30281416,\n",
       "        2129.55230022,  1881.23986544,  2006.844688  ,  1967.08064893,\n",
       "        1930.41137862,  1841.12818443,  1887.47376147,  1816.0198942 ,\n",
       "        1923.54190804,  1923.57590755,  1981.29260463,  1809.47997424,\n",
       "        1798.28304184,  1959.94158842,  1957.24021597,  1836.42205125,\n",
       "        1742.47658369,  1827.76397536,  1630.84541107,  1749.78626727,\n",
       "        1809.31491258,  1908.8675197 ,  1810.1250773 ,  2053.33554016,\n",
       "        2055.88211076,  1735.37169635,  1956.79101439,  1934.53195382,\n",
       "        2065.57325899,  1857.63812389,  1958.72767773,  1659.3763621 ,\n",
       "        1784.92500445,  1914.67042433,  2052.33683462,  1960.88278699,\n",
       "        1789.71167893,  1802.5141823 ,  2022.56640596,  1932.42056863,\n",
       "        1787.82508804,  1787.81873492,  1728.77198515,  2098.71623139,\n",
       "        1986.17370407,  1777.90500463,  1804.01373061,  1872.54834137,\n",
       "        2088.82207627,  1921.42617292,  1818.70517759,  2020.70460015,\n",
       "        1696.51707115,  2168.07743354,  1776.87132165,  1979.74466334,\n",
       "        1861.33760121,  2106.52087891,  1950.85680583])"
      ]
     },
     "execution_count": 15,
     "metadata": {},
     "output_type": "execute_result"
    }
   ],
   "source": [
    "l2_hess(theta,train_X,train_y)"
   ]
  },
  {
   "cell_type": "code",
   "execution_count": 16,
   "metadata": {
    "collapsed": false
   },
   "outputs": [
    {
     "data": {
      "text/plain": [
       "     fun: 24.597030484763188\n",
       "     jac: array([-46.40257364,  31.59452715,  32.71450719,  28.63323364,\n",
       "       -42.83272744,  21.15897638, -40.74021193,  45.0909535 ,\n",
       "        31.52327994, -39.94546276,  -0.07431451,  -4.4663108 ,\n",
       "         3.66558847,  17.48560043,  -0.63952392,  -3.84059419,\n",
       "        12.58431852,  16.04296738,  -2.36080833,   1.95662752,\n",
       "        19.33051332,  -1.03236845, -11.4015247 ,   5.45021035,\n",
       "       -19.18594781,   2.89832412,   7.67604617,   9.09260643,\n",
       "       -29.62756054,  -1.45990584,  -2.89131983,   7.34897757,\n",
       "        -9.0564412 ,  -2.32945387,   2.02678568,  22.81660101,\n",
       "        -7.50654563,   5.48019691, -15.92480811,   9.50641651,\n",
       "        -3.47035692, -12.54124321,   5.29286061, -12.69620529,\n",
       "        -3.46589503,  -0.47193262,  -1.38298339,   3.22992571,\n",
       "       -11.62128856,  16.40996903,   6.16058014, -10.1901623 ,\n",
       "        -1.05006484,  -8.22605915, -10.55227131,  -3.68131496,\n",
       "        -0.79458468,   1.81266302, -10.79222479,  -0.57609046,\n",
       "         0.71139046,  10.22219595,  -5.71368512,  11.70557613,\n",
       "        -9.17208296, -19.76732908, -33.0267468 ,  -2.86680565,\n",
       "         4.19895595, -12.19717683,  10.65552948,  -8.10412961,\n",
       "        -2.66818343,   4.41573261, -12.09461192])\n",
       " message: 'Desired error not necessarily achieved due to precision loss.'\n",
       "    nfev: 27\n",
       "    nhev: 0\n",
       "     nit: 3\n",
       "    njev: 32\n",
       "  status: 2\n",
       " success: False\n",
       "       x: array([ 2.65390732, -2.290152  , -2.2355031 , -2.14117242,  2.51295484,\n",
       "       -1.44654899,  2.15228287, -3.45451073, -2.22496395,  2.40907196,\n",
       "       -0.6880295 , -0.04507957, -0.78603944, -1.68868131, -0.18917563,\n",
       "       -0.02417146, -1.71086365, -1.49698566, -0.36726824, -0.38878115,\n",
       "       -1.72418784, -0.07940346,  0.7460434 ,  0.13073239,  0.78428276,\n",
       "       -0.57496165, -0.97539436, -0.58656141,  1.90216569, -0.4386602 ,\n",
       "       -0.48815063, -0.63267627, -0.11233571,  0.16706675, -0.3297499 ,\n",
       "       -2.20119693, -0.34853521, -0.78414397,  0.71482245, -0.7644203 ,\n",
       "       -0.44088085,  0.63974594, -0.77189961,  0.27164705, -0.33789542,\n",
       "       -0.76296195, -0.69080381, -0.55779063,  0.4582096 , -1.10970646,\n",
       "       -1.05884177,  0.52369532, -0.25563771,  0.20176632,  0.52101673,\n",
       "       -0.00908979, -0.23082657, -0.13975447,  0.45897772, -0.20156602,\n",
       "       -0.57883485, -1.08471867,  0.32310378, -1.44965025, -0.30192749,\n",
       "        1.37486548,  2.42837609, -0.46571614, -0.55166961,  0.31174991,\n",
       "       -0.95281655,  0.21589529, -0.15387736, -0.91985385,  0.7006101 ])"
      ]
     },
     "execution_count": 16,
     "metadata": {},
     "output_type": "execute_result"
    }
   ],
   "source": [
    "minimize(fun=l2_objective,args=(train_X,train_y,0.1),method='Newton-CG',x0=theta,jac=l2_hess)"
   ]
  }
 ],
 "metadata": {
  "anaconda-cloud": {},
  "kernelspec": {
   "display_name": "Python [conda root]",
   "language": "python",
   "name": "conda-root-py"
  },
  "language_info": {
   "codemirror_mode": {
    "name": "ipython",
    "version": 3
   },
   "file_extension": ".py",
   "mimetype": "text/x-python",
   "name": "python",
   "nbconvert_exporter": "python",
   "pygments_lexer": "ipython3",
   "version": "3.5.2"
  }
 },
 "nbformat": 4,
 "nbformat_minor": 1
}
