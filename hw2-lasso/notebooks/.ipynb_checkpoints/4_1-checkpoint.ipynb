{
 "cells": [
  {
   "cell_type": "markdown",
   "metadata": {},
   "source": [
    "# 4_1_1)"
   ]
  },
  {
   "cell_type": "markdown",
   "metadata": {},
   "source": [
    "$$\n",
    "\\begin{split}\n",
    "L'(0:v) &= \\lim_{h \\to 0^+} \\frac{L(hv)-L(0)}{h} \\\\\n",
    "&= \\lim_{h \\to 0^+} \\frac{\\lvert \\lvert hxv-y \\rvert \\rvert^2+\\lambda h \\lvert \\lvert v \\rvert \\rvert_1-\\lvert \\lvert y \\rvert \\rvert^2}{h}\n",
    "\\end{split}\n",
    "$$\n",
    "\n",
    "Apply L'Hopital Rule:\n",
    "$$\n",
    "\\begin{split}\n",
    "L'(0:v) &= (\\lim_{h \\to 0^+} 2(hxv - y)^Txv) +\\lambda \\lvert \\lvert v \\rvert \\rvert_1\\\\\n",
    "&= -2y^Txv + \\lambda \\lvert \\lvert v \\rvert \\rvert_1\n",
    "\\end{split}\n",
    "$$"
   ]
  },
  {
   "cell_type": "markdown",
   "metadata": {},
   "source": [
    "\\newpage"
   ]
  },
  {
   "cell_type": "markdown",
   "metadata": {},
   "source": [
    "# 4_1_2)"
   ]
  },
  {
   "cell_type": "markdown",
   "metadata": {},
   "source": [
    "If $L'(0:v) \\geq 0$ we must have $\\lambda \\geq \\frac{2y^Txv}{\\lvert \\lvert v \\rvert \\rvert_1}$. Hence the lower bound of $\\lambda$ is $\\frac{2y^Txv}{\\lvert \\lvert v \\rvert \\rvert_1}$"
   ]
  },
  {
   "cell_type": "markdown",
   "metadata": {},
   "source": [
    "\\newpage"
   ]
  },
  {
   "cell_type": "markdown",
   "metadata": {},
   "source": [
    "# 4_1_3)"
   ]
  },
  {
   "cell_type": "markdown",
   "metadata": {
    "collapsed": true
   },
   "source": [
    " The lower bound is equal to $\\frac{\\sum \\limits_i 2 y_i x_i v_i}{\\sum \\limits_i \\lvert v \\rvert} \\leq  \\frac{\\sum \\limits_i 2 \\lvert y_i x_i \\rvert \\lvert v_i \\rvert}{\\sum \\limits_i \\lvert v \\rvert}$. This is a weighted sum of $2 \\lvert y_i x_i \\rvert$, which is smaller than the largest component of $2 \\lvert y_i x_i \\rvert$ "
   ]
  }
 ],
 "metadata": {
  "anaconda-cloud": {},
  "kernelspec": {
   "display_name": "Python [conda root]",
   "language": "python",
   "name": "conda-root-py"
  },
  "language_info": {
   "codemirror_mode": {
    "name": "ipython",
    "version": 3
   },
   "file_extension": ".py",
   "mimetype": "text/x-python",
   "name": "python",
   "nbconvert_exporter": "python",
   "pygments_lexer": "ipython3",
   "version": "3.5.2"
  }
 },
 "nbformat": 4,
 "nbformat_minor": 1
}
