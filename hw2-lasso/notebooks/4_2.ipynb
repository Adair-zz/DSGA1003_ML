{
 "cells": [
  {
   "cell_type": "markdown",
   "metadata": {},
   "source": [
    "# 4_2_1)"
   ]
  },
  {
   "cell_type": "markdown",
   "metadata": {},
   "source": [
    "Claim: $a$ and $b$ must have the same sign. \n",
    "\n",
    "Proof: Suppose $a$ and $b$ have opposite signs and are optimizer for $L$.\n",
    "Let's $c = a+b$ and $d=0$\n",
    "Since $x_1$ and $x_2$ are repeat features, $x_1 = x_2$,We must have $cx_1+dx_2=ax_1+bx_2$. By Cauchy equality we must have $\\lambda \\lvert a \\rvert + \\lambda \\lvert b \\rvert \\geq \\lambda \\lvert a+b \\rvert = \\lambda \\lvert c \\rvert + \\lambda \\lvert d \\rvert$. Hence c and d produce smaller L than a and b do. This is a contradiction."
   ]
  },
  {
   "cell_type": "markdown",
   "metadata": {},
   "source": [
    "Claim: If $c+d = a+b$ while $c$ and $d$ have the same sign. Then $c$ and $d$ are also optimizer for $L$.\n",
    "\n",
    "Proof: We must have $cx_1+dx_2=ax_1+bx_2$. Since  $c$ and $d$ have the same sign, we must have $\\lambda \\lvert c \\rvert + \\lambda \\lvert d \\rvert = \\lambda \\lvert c+d \\rvert = \\lambda \\lvert a+b \\rvert = \\lambda \\lvert a \\rvert + \\lambda \\lvert b \\rvert$. Then c and d produce same L as a and b. Since a and b are defined to be minimizer, L must be optimized. Then c and d are also optimizer for L."
   ]
  },
  {
   "cell_type": "markdown",
   "metadata": {},
   "source": [
    "\\newpage"
   ]
  },
  {
   "cell_type": "markdown",
   "metadata": {},
   "source": [
    "# 4_2_2)"
   ]
  },
  {
   "cell_type": "markdown",
   "metadata": {},
   "source": [
    "Claim: $a$ and $b$ must have the same sign. \n",
    "\n",
    "Proof: Suppose $a$ and $b$ have opposite signs and are optimizer for $L$. Let $a$ be the positive one and $b$ be the negative one.\n",
    "\n",
    "If $a+b >0$ let $c = a+b$ and $d=0$ \n",
    "\n",
    "Since $x_1$ and $x_2$ are repeat features, $x_1 = x_2$,We must have $cx_1+dx_2=ax_1+bx_2$. If $a+b >0$,  Since $b$ is negative then $a+b<a$,  we have  $\\lvert c \\rvert =\\lvert a+b \\rvert \\leq \\lvert a \\rvert$ and $\\lvert d \\rvert = 0 \\leq \\lvert b \\rvert$. If $a+b <0$,  Since $a$ is positive then $a+b>b$, we have  $\\lvert c \\rvert =\\lvert a+b \\rvert \\leq \\lvert b \\rvert$ and $\\lvert d \\rvert = 0 \\leq \\lvert a \\rvert$. We can always create a new minimizer produce less L, introducing an contradiction.\n",
    "\n",
    "\n",
    "Claim: $a=b$\n",
    "\n",
    "Proof: Holding the sum $S$ of $a$ and $b$ constant. The $\\lambda \\lvert a \\rvert + \\lambda \\lvert b \\rvert$ is minimized when a = b. Since if both $a$ and $b$ are positive, $\\lambda \\lvert a \\rvert + \\lambda \\lvert b \\rvert = a^2 +b^2 = (a+b)^2 -2ab = S^2 - 2a(S-a)$ is minimized when $a = \\frac{S}{2}$. The identical statement hold when both a and b are negative. "
   ]
  }
 ],
 "metadata": {
  "kernelspec": {
   "display_name": "Python [conda root]",
   "language": "python",
   "name": "conda-root-py"
  },
  "language_info": {
   "codemirror_mode": {
    "name": "ipython",
    "version": 3
   },
   "file_extension": ".py",
   "mimetype": "text/x-python",
   "name": "python",
   "nbconvert_exporter": "python",
   "pygments_lexer": "ipython3",
   "version": "3.5.2"
  }
 },
 "nbformat": 4,
 "nbformat_minor": 1
}
