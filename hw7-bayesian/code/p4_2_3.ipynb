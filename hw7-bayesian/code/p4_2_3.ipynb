{
 "cells": [
  {
   "cell_type": "code",
   "execution_count": 52,
   "metadata": {
    "collapsed": false
   },
   "outputs": [],
   "source": [
    "import numpy as np\n",
    "import scipy\n",
    "from scipy.special import beta,betaln\n",
    "from scipy.misc import comb\n",
    "from scipy.optimize import minimize\n",
    "\n",
    "#data\n",
    "x = [50,160,180,0,0,1]\n",
    "n = [10000,20000,60000,100,5,2]\n",
    "\n",
    "#Likelihood function\n",
    "def pD(ab):\n",
    "    assert len(ab)==2\n",
    "    cumSum_list = []\n",
    "    a = ab[0]\n",
    "    b = ab[1]\n",
    "    for i in range(len(x)):\n",
    "        xi = x[i]\n",
    "        ni = n[i]\n",
    "        #print(beta(xi+a,ni-xi+b))\n",
    "        #cumProd_list.append(comb(k=xi,N=ni,exact=True)*beta(xi+a,ni-xi+b)/beta(a,b))\n",
    "        cumSum_list.append(betaln(xi+a,ni-xi+b)-betaln(a,b))\n",
    "    return -np.cumsum(cumSum_list)[-1]"
   ]
  },
  {
   "cell_type": "code",
   "execution_count": 68,
   "metadata": {
    "collapsed": false
   },
   "outputs": [
    {
     "data": {
      "text/plain": [
       "2485.2377213485161"
      ]
     },
     "execution_count": 68,
     "metadata": {},
     "output_type": "execute_result"
    }
   ],
   "source": [
    "pD([8,1000])"
   ]
  },
  {
   "cell_type": "code",
   "execution_count": 76,
   "metadata": {
    "collapsed": false
   },
   "outputs": [
    {
     "data": {
      "text/plain": [
       " final_simplex: (array([[    6.46896461,  1181.43722485],\n",
       "       [    6.46896415,  1181.43714184],\n",
       "       [    6.46896422,  1181.43715013]]), array([ 2483.72514115,  2483.72514115,  2483.72514115]))\n",
       "           fun: 2483.7251411499501\n",
       "       message: 'Optimization terminated successfully.'\n",
       "          nfev: 104\n",
       "           nit: 48\n",
       "        status: 0\n",
       "       success: True\n",
       "             x: array([    6.46896461,  1181.43722485])"
      ]
     },
     "execution_count": 76,
     "metadata": {},
     "output_type": "execute_result"
    }
   ],
   "source": [
    "#optimization\n",
    "x0 = [8,1000]\n",
    "minimize(fun=pD,x0=x0,method='Nelder-Mead',)"
   ]
  },
  {
   "cell_type": "code",
   "execution_count": 75,
   "metadata": {
    "collapsed": false
   },
   "outputs": [
    {
     "data": {
      "text/plain": [
       "array([    6.46896461,  1181.43722485])"
      ]
     },
     "execution_count": 75,
     "metadata": {},
     "output_type": "execute_result"
    }
   ],
   "source": [
    "res.x"
   ]
  }
 ],
 "metadata": {
  "anaconda-cloud": {},
  "kernelspec": {
   "display_name": "Python [conda env:py35]",
   "language": "python",
   "name": "conda-env-py35-py"
  },
  "language_info": {
   "codemirror_mode": {
    "name": "ipython",
    "version": 3
   },
   "file_extension": ".py",
   "mimetype": "text/x-python",
   "name": "python",
   "nbconvert_exporter": "python",
   "pygments_lexer": "ipython3",
   "version": "3.5.2"
  }
 },
 "nbformat": 4,
 "nbformat_minor": 1
}
