{
 "cells": [
  {
   "cell_type": "markdown",
   "metadata": {},
   "source": [
    "# 2.1 Subgradients for pointwise maximum of functions"
   ]
  },
  {
   "cell_type": "markdown",
   "metadata": {},
   "source": [
    "Since $g \\in \\partial f_k(x)$, we must have $f_k(z) \\geq f_k(x)+g^T(z-x)$ for all $z$. By definition of $f(x)$ and $f_K(x)$ we must have $f(z) \\geq f_k(z) \\geq f_k(x)+g^T(z-x)=f(x)+g^T(z-x)$ for all z, which shows that $g \\in \\partial f(x)$."
   ]
  },
  {
   "cell_type": "markdown",
   "metadata": {},
   "source": [
    "\\newpage\n",
    "# 2.2\n",
    "By conclusion of 2.1, the subgradient of pointwise maximum functions are stepwise function of gradient of its components functions. Thus we must have $\\partial J(w)=\n",
    "\\begin{cases}\n",
    "0 & 1-yw^Tx<0\\\\\n",
    "-yx & else\n",
    "\\end{cases}\n",
    "$"
   ]
  }
 ],
 "metadata": {
  "anaconda-cloud": {},
  "kernelspec": {
   "display_name": "Python [conda root]",
   "language": "python",
   "name": "conda-root-py"
  },
  "language_info": {
   "codemirror_mode": {
    "name": "ipython",
    "version": 3
   },
   "file_extension": ".py",
   "mimetype": "text/x-python",
   "name": "python",
   "nbconvert_exporter": "python",
   "pygments_lexer": "ipython3",
   "version": "3.5.2"
  }
 },
 "nbformat": 4,
 "nbformat_minor": 1
}
