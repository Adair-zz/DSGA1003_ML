{
 "cells": [
  {
   "cell_type": "markdown",
   "metadata": {},
   "source": [
    "# 3 Perception"
   ]
  },
  {
   "cell_type": "markdown",
   "metadata": {},
   "source": [
    "## 3.1\n",
    "If $\\{x|w^Tx=0\\}$ is a seperating hyperplane for training set $D$, it must satisfy $y_i w^T x_i>0$ $\\forall i \\in \\{1,...,n\\}$. Then by definition the perception loss will be zero for all points so that the average perception loss on $D$ is 0."
   ]
  },
  {
   "cell_type": "markdown",
   "metadata": {},
   "source": [
    "\\newpage\n",
    "## 3.2\n",
    "By the conclusion of 2.1, The subgradient of perception loss $\\partial l(\\hat(y),y)=\n",
    "\\begin{cases}\n",
    "0 & y_i w^T x_i<0 \\\\\n",
    "-y_i x_i & else\n",
    "\\end{cases}\n",
    "$.\n",
    "\n",
    "The SSGD with step size 1 would update $w$ by either negative subgradient direction or zero, that is, $w^{(k+1)}=w^k+y_i x_i$ if $y_i w^T x_i<0$ and $w^{(k+1)}=w^k$ if $y_i w^T x_i>0$. Which is exacly the same with Perception Algorithm."
   ]
  },
  {
   "cell_type": "markdown",
   "metadata": {},
   "source": [
    "\\newpage\n",
    "## 3.3\n",
    "Using the perception algorithm, $w^0=0$ and every update step either add $y_i x_i$ or unchange to $w$. Hence $w$ must be a linear combination of $x_i$. If a point is a support vector, we must have $y_i w^T x_i > 0$, which is equivalent to $x_i$ is misclassified by hyperplane $w^T x_i =0$. If a point is misclassified in the process of perception algorithm, it is a support vector, otherwise it isn't."
   ]
  }
 ],
 "metadata": {
  "kernelspec": {
   "display_name": "Python [conda root]",
   "language": "python",
   "name": "conda-root-py"
  },
  "language_info": {
   "codemirror_mode": {
    "name": "ipython",
    "version": 3
   },
   "file_extension": ".py",
   "mimetype": "text/x-python",
   "name": "python",
   "nbconvert_exporter": "python",
   "pygments_lexer": "ipython3",
   "version": "3.5.2"
  }
 },
 "nbformat": 4,
 "nbformat_minor": 1
}
