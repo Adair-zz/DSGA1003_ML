{
 "cells": [
  {
   "cell_type": "markdown",
   "metadata": {},
   "source": [
    "## Linear Regression"
   ]
  },
  {
   "cell_type": "markdown",
   "metadata": {},
   "source": [
    "### 2.1 Feature Normalization"
   ]
  },
  {
   "cell_type": "code",
   "execution_count": 13,
   "metadata": {
    "collapsed": true
   },
   "outputs": [],
   "source": [
    "# Proposed Normalization function\n",
    "import numpy as np\n",
    "def normalize(nparray):\n",
    "    return nparray/max(nparray)"
   ]
  },
  {
   "cell_type": "code",
   "execution_count": 15,
   "metadata": {
    "collapsed": false
   },
   "outputs": [
    {
     "data": {
      "text/plain": [
       "array([ 0.14285714,  0.28571429,  0.42857143,  0.57142857,  0.71428571,\n",
       "        0.85714286,  1.        ])"
      ]
     },
     "execution_count": 15,
     "metadata": {},
     "output_type": "execute_result"
    }
   ],
   "source": [
    "a = np.array([1,2,3,4,5,6,7])\n",
    "normalize(a)"
   ]
  },
  {
   "cell_type": "markdown",
   "metadata": {},
   "source": [
    "### 2.2 Gradient Decent Setup"
   ]
  },
  {
   "cell_type": "markdown",
   "metadata": {},
   "source": [
    "1) $J(\\theta) = \\lvert\\lvert \\theta X^{T} - y \\rvert \\rvert ^2$ "
   ]
  },
  {
   "cell_type": "markdown",
   "metadata": {},
   "source": [
    "2) $\\frac{dJ}{d\\theta} = 2  \\lvert \\lvert \\theta X^{T} - y \\rvert \\rvert X^T$"
   ]
  },
  {
   "cell_type": "markdown",
   "metadata": {},
   "source": [
    "## Risk Estimation\n",
    "### 3.1 Square Loss\n",
    "#### 1"
   ]
  },
  {
   "cell_type": "markdown",
   "metadata": {},
   "source": [
    "Since $f(x) = a$ is a deterministic function. We must have $\\mathbf{E}[a] = a$ and $Var(a) = 0$.\n",
    "For any random variable $X$, we must have $Var(X)=\\mathbf{E}[x^2] - \\mathbf{E}[x]^2$, then $\\mathbf{E}[x^2] = Var(x) + \\mathbf{E}[x]^2$ \n",
    "\n",
    "Then we have:\n",
    "$$\n",
    "\\begin{split}\n",
    "\\mathbf{E}[(a-y)^2] &= \\mathbf{E}[a^2 - 2ay + y^2] \\\\\n",
    "&= \\mathbf{E}[a^2] +\\mathbf{E}[y^2] - \\mathbf{E}[2ay]\\\\\n",
    "&= Var(a) + Var(y) +\\mathbf{E}[a]^2 + \\mathbf{E}[y]^2 - 2a\\mathbf{E}[y]\\\\\n",
    "&= Var(y) + (a - \\mathbf{E}[y])^2\n",
    "\\end{split}\n",
    "$$\n"
   ]
  },
  {
   "cell_type": "markdown",
   "metadata": {},
   "source": [
    "We can see that $E[(a-y)^2]$ reaches minimun when $a=\\mathbf{E}[y]$ with Bayes risk of $Var(y)$"
   ]
  },
  {
   "cell_type": "code",
   "execution_count": null,
   "metadata": {
    "collapsed": true
   },
   "outputs": [],
   "source": []
  }
 ],
 "metadata": {
  "anaconda-cloud": {},
  "kernelspec": {
   "display_name": "Python [conda root]",
   "language": "python",
   "name": "conda-root-py"
  },
  "language_info": {
   "codemirror_mode": {
    "name": "ipython",
    "version": 3
   },
   "file_extension": ".py",
   "mimetype": "text/x-python",
   "name": "python",
   "nbconvert_exporter": "python",
   "pygments_lexer": "ipython3",
   "version": "3.5.2"
  }
 },
 "nbformat": 4,
 "nbformat_minor": 1
}
